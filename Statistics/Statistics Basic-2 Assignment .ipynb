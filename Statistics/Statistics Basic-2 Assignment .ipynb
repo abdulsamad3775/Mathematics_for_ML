{
 "cells": [
  {
   "cell_type": "markdown",
   "id": "2e991471",
   "metadata": {},
   "source": [
    "# Q1. What are the three measures of central tendency?\n",
    "Mean: The mean, also known as the average, is calculated by summing up all the values in a data set and then dividing the sum by the total number of values. It is the most commonly used measure of central tendency.\n",
    "\n",
    "Median: The median is the middle value in a data set when the values are arranged in ascending or descending order. If there is an even number of values, the median is the average of the two middle values. The median is less sensitive to extreme outliers than the mean.\n",
    "\n",
    "Mode: The mode is the value that occurs most frequently in a data set. A data set can have no mode (if all values are unique), one mode (unimodal), or multiple modes (multimodal) if two or more values have the same highest frequency."
   ]
  },
  {
   "cell_type": "markdown",
   "id": "abf1425e",
   "metadata": {},
   "source": [
    "# Q2. What is the difference between the mean, median, and mode? How are they used to measure the central tendency of a dataset?\n",
    "Mean:\n",
    "\n",
    "Calculation: The mean is calculated by summing up all the values in a dataset and then dividing the sum by the total number of values.\n",
    "Sensitivity to Outliers: The mean is sensitive to extreme outliers or very large or small values because it takes into account every value in the dataset.\n",
    "Use: The mean is commonly used when the data is relatively symmetrical and not heavily skewed. It provides a balanced measure of central tendency.\n",
    "\n",
    "Median:\n",
    "\n",
    "Calculation: The median is the middle value when the values in a dataset are arranged in ascending or descending order. If there is an even number of values, the median is the average of the two middle values.\n",
    "Sensitivity to Outliers: The median is less sensitive to extreme outliers compared to the mean because it focuses on the middle value(s) and is not influenced by extreme values at the ends of the dataset.\n",
    "Use: The median is often used when the data is skewed or has outliers. It provides a better representation of the central value in such cases.\n",
    "\n",
    "Mode:\n",
    "\n",
    "Calculation: The mode is the value that occurs most frequently in a dataset. A dataset can have no mode (if all values are unique), one mode (unimodal), or multiple modes (multimodal) if two or more values have the same highest frequency.\n",
    "Sensitivity to Outliers: The mode is not influenced by outliers because it is solely based on the frequency of values.\n",
    "Use: The mode is useful for categorical or nominal data, and it can also be used with continuous data. It helps identify the most frequently occurring category or value in a dataset."
   ]
  },
  {
   "cell_type": "markdown",
   "id": "69790dbe",
   "metadata": {},
   "source": [
    "# Q3. Measure the three measures of central tendency for the given height data:\n",
    "[178,177,176,177,178.2,178,175,179,180,175,178.9,176.2,177,172.5,178,176.5]"
   ]
  },
  {
   "cell_type": "code",
   "execution_count": 1,
   "id": "4540dad0",
   "metadata": {},
   "outputs": [
    {
     "name": "stdout",
     "output_type": "stream",
     "text": [
      "Mean: 177.01875\n",
      "Median: 177.0\n",
      "Mode: 178\n"
     ]
    }
   ],
   "source": [
    "#from scratch\n",
    "\n",
    "# Given height data\n",
    "height_data = [178, 177, 176, 177, 178.2, 178, 175, 179, 180, 175, 178.9, 176.2, 177, 172.5, 178, 176.5]\n",
    "\n",
    "# Calculate the mean\n",
    "mean = sum(height_data) / len(height_data)\n",
    "\n",
    "# Calculate the median\n",
    "sorted_data = sorted(height_data)\n",
    "n = len(sorted_data)\n",
    "if n % 2 == 0:\n",
    "    median = (sorted_data[n // 2 - 1] + sorted_data[n // 2]) / 2\n",
    "else:\n",
    "    median = sorted_data[n // 2]\n",
    "\n",
    "# Calculate the mode\n",
    "from collections import Counter\n",
    "height_counts = Counter(height_data)\n",
    "mode = height_counts.most_common(1)[0][0]\n",
    "\n",
    "# Print the results\n",
    "print(\"Mean:\", mean)\n",
    "print(\"Median:\", median)\n",
    "print(\"Mode:\", mode)"
   ]
  },
  {
   "cell_type": "code",
   "execution_count": 4,
   "id": "8d78c7f0",
   "metadata": {},
   "outputs": [
    {
     "name": "stdout",
     "output_type": "stream",
     "text": [
      "Mean: 177.01875\n",
      "Median: 177.0\n",
      "Mode: 177.0\n"
     ]
    },
    {
     "name": "stderr",
     "output_type": "stream",
     "text": [
      "C:\\Users\\abdulsamad\\AppData\\Local\\Temp\\ipykernel_4888\\1013340097.py:16: FutureWarning: Unlike other reduction functions (e.g. `skew`, `kurtosis`), the default behavior of `mode` typically preserves the axis it acts along. In SciPy 1.11.0, this behavior will change: the default value of `keepdims` will become False, the `axis` over which the statistic is taken will be eliminated, and the value None will no longer be accepted. Set `keepdims` to True or False to avoid this warning.\n",
      "  mode = stats.mode(height_data).mode[0]\n"
     ]
    }
   ],
   "source": [
    "#Using Libraries (NumPy and SciPy):\n",
    "\n",
    "import numpy as np\n",
    "from scipy import stats\n",
    "\n",
    "# Given height data\n",
    "height_data = [178, 177, 176, 177, 178.2, 178, 175, 179, 180, 175, 178.9, 176.2, 177, 172.5, 178, 176.5]\n",
    "\n",
    "# Calculate the mean using NumPy\n",
    "mean = np.mean(height_data)\n",
    "\n",
    "# Calculate the median using NumPy\n",
    "median = np.median(height_data)\n",
    "\n",
    "# Calculate the mode using SciPy\n",
    "mode = stats.mode(height_data).mode[0]\n",
    "\n",
    "# Print the results\n",
    "print(\"Mean:\", mean)\n",
    "print(\"Median:\", median)\n",
    "print(\"Mode:\", mode)\n"
   ]
  },
  {
   "cell_type": "markdown",
   "id": "8d61595d",
   "metadata": {},
   "source": [
    "# Q4. Find the standard deviation for the given data:\n",
    "[178,177,176,177,178.2,178,175,179,180,175,178.9,176.2,177,172.5,178,176.5]"
   ]
  },
  {
   "cell_type": "code",
   "execution_count": 5,
   "id": "a3102cc2",
   "metadata": {},
   "outputs": [
    {
     "name": "stdout",
     "output_type": "stream",
     "text": [
      "Standard Deviation: 1.7885814036548633\n"
     ]
    }
   ],
   "source": [
    "#from scratch\n",
    "# Given height data\n",
    "height_data = [178, 177, 176, 177, 178.2, 178, 175, 179, 180, 175, 178.9, 176.2, 177, 172.5, 178, 176.5]\n",
    "\n",
    "# Calculate the mean\n",
    "mean = sum(height_data) / len(height_data)\n",
    "\n",
    "# Calculate the squared differences from the mean\n",
    "squared_diff = [(x - mean) ** 2 for x in height_data]\n",
    "\n",
    "# Calculate the mean of squared differences\n",
    "mean_squared_diff = sum(squared_diff) / len(height_data)\n",
    "\n",
    "# Calculate the standard deviation by taking the square root of mean_squared_diff\n",
    "std_deviation = (mean_squared_diff ** 0.5)\n",
    "\n",
    "# Print the result\n",
    "print(\"Standard Deviation:\", std_deviation)"
   ]
  },
  {
   "cell_type": "code",
   "execution_count": 6,
   "id": "3b5afdfc",
   "metadata": {},
   "outputs": [
    {
     "name": "stdout",
     "output_type": "stream",
     "text": [
      "Standard Deviation: 1.7885814036548633\n"
     ]
    }
   ],
   "source": [
    "#NumPy library\n",
    "std_deviation = np.std(height_data)\n",
    "print(\"Standard Deviation:\", std_deviation)"
   ]
  },
  {
   "cell_type": "markdown",
   "id": "09799e19",
   "metadata": {},
   "source": [
    "# Q5. How are measures of dispersion such as range, variance, and standard deviation used to describe the spread of a dataset? Provide an example.\n",
    "\n",
    "Range:\n",
    "\n",
    "The range is the simplest measure of dispersion and represents the difference between the maximum and minimum values in a dataset.\n",
    "It provides a quick way to understand the spread of data but can be influenced by outliers.\n",
    "Example: Consider a dataset of exam scores for a class: [60, 70, 80, 90, 100]. The range is 100 - 60 = 40, indicating that the scores vary by 40 points.\n",
    "\n",
    "Variance:\n",
    "\n",
    "Variance quantifies the average squared difference between each data point and the mean of the dataset. It gives more weight to larger deviations from the mean.\n",
    "Variance is often used in statistical analysis and is the basis for calculating the standard deviation.\n",
    "Example: Using the same exam scores dataset, you can calculate the variance. The variance is a more detailed measure of the spread, providing insight into how scores deviate from the mean.\n",
    "\n",
    "Standard Deviation:\n",
    "\n",
    "Standard deviation is the square root of the variance. It measures the average absolute deviation from the mean, providing a more interpretable metric of spread compared to variance.\n",
    "It is commonly used to describe the degree of variability in a dataset.\n",
    "Example: If the variance of the exam scores dataset is calculated to be 100, the standard deviation would be the square root of 100, which is 10. This indicates that, on average, the scores deviate from the mean by approximately 10 points."
   ]
  },
  {
   "cell_type": "markdown",
   "id": "233cc0e4",
   "metadata": {},
   "source": [
    "# Q6. What is a Venn diagram?\n",
    "A Venn diagram is a graphical representation used to depict the relationship between sets or groups of objects. It consists of overlapping circles, each representing a set, and the intersections between these circles represent the elements that belong to multiple sets simultaneously. Venn diagrams are commonly used to visualize and understand set theory, logic, and the relationships between different categories or groups of items."
   ]
  },
  {
   "cell_type": "markdown",
   "id": "9d03baec",
   "metadata": {},
   "source": [
    " (i) A ∩ B (Intersection): The intersection of two sets consists of elements that are common to both sets. In this case, the elements that appear in both sets A and B are {2, 6}.\n",
    "\n",
    "So, A ∩ B = {2, 6}\n",
    "\n",
    "(ii) A ⋃ B (Union): The union of two sets consists of all unique elements from both sets, without duplicates. In this case, combine all the elements from sets A and B.\n",
    "\n",
    "So, A ⋃ B = {0, 2, 3, 4, 5, 6, 7, 8, 10}\n"
   ]
  },
  {
   "cell_type": "markdown",
   "id": "f81d32b5",
   "metadata": {},
   "source": [
    "# Q8. What do you understand about skewness in data?\n",
    "\n",
    "Skewness is a statistical measure that indicates the asymmetry of a data distribution.\n",
    "Types: There are three main types of skewness: positive (right skew), negative (left skew), and no skew (symmetrical).\n",
    "\n",
    "Positive Skew (Right Skew):\n",
    "Tail on the right side is longer.\n",
    "Majority of data concentrated on the left side.\n",
    "mode <  Median < Mean .\n",
    "\n",
    "Negative Skew (Left Skew):\n",
    "Tail on the left side is longer.\n",
    "Majority of data concentrated on the right side.\n",
    "mode >  Median > Mean .\n",
    "\n",
    "No Skew (Symmetrical):\n",
    "Data is evenly distributed around the mean.\n",
    "mode =  Median = Mean .\n"
   ]
  },
  {
   "cell_type": "markdown",
   "id": "c1ef1d6e",
   "metadata": {},
   "source": [
    "# Q9. If a data is right skewed then what will be the position of median with respect to mean?\n",
    "\n",
    "In a right-skewed distribution: Median < Mean  also median is in left side of mean in the visualization"
   ]
  },
  {
   "cell_type": "markdown",
   "id": "4ff55124",
   "metadata": {},
   "source": [
    "# Q10. Explain the difference between covariance and correlation. How are these measures used in statistical analysis?\n",
    "\n",
    "Covariance measures the direction of the linear relationship between two variables, whereas correlation quantifies both the direction and strength of this relationship. Correlation is standardized, ranging from -1 to 1, making it more interpretable and widely used in statistical analysis, finance, and research.\n",
    "\n",
    "these measures used in statistical analysis for EDA and Feature selection , also used for:-\n",
    "\n",
    "Relationship Analysis: Understanding how two variables relate.\n",
    "Data Preprocessing: Identifying multicollinearity.\n",
    "Visualization: Displaying variable relationships.\n",
    "Data Selection: Choosing significant predictor variables.\n",
    "\n",
    "\n",
    "\n",
    "\n"
   ]
  },
  {
   "cell_type": "markdown",
   "id": "43dc5e47",
   "metadata": {},
   "source": [
    "# Q11. What is the formula for calculating the sample mean? Provide an example calculation for a dataset.\n",
    "\n",
    "\n",
    "The formula for calculating the sample mean (average) is as follows:\n",
    "\n",
    "Sample Mean (x̄) = (Sum of all data values in sample) / (sample size)\n",
    "\n",
    "Here's an example calculation for a dataset:\n",
    "\n",
    "Suppose you have the following dataset of exam scores:\n",
    "\n",
    "[85, 92, 88, 78, 90]\n",
    "\n",
    "To calculate the sample mean:\n",
    "\n",
    "Add up all the values in the dataset: 85 + 92 + 88 + 78 + 90 = 433\n",
    "\n",
    "Count the number of data values, which is 5 in this case.\n",
    "\n",
    "Use the formula to calculate the sample mean:\n",
    "\n",
    "Sample Mean (x̄) = 433 / 5 = 86.6\n",
    "\n",
    "So, the sample mean (average) for this dataset is 86.6.\n",
    "\n",
    "\n",
    "\n",
    "\n"
   ]
  },
  {
   "cell_type": "markdown",
   "id": "3c10b184",
   "metadata": {},
   "source": [
    "# Q12. For a normal distribution data what is the relationship between its measure of central tendency?\n",
    "\n",
    "mean = median = mode , approximately"
   ]
  },
  {
   "cell_type": "markdown",
   "id": "225c61c8",
   "metadata": {},
   "source": [
    "# Q13. How is covariance different from correlation?\n",
    "Covariance measures the directional relationship between two variables, while correlation quantifies both direction and strength, is unitless, and ranges from -1 to 1.\n",
    "\n",
    "\n",
    "\n",
    "\n",
    "\n"
   ]
  },
  {
   "cell_type": "markdown",
   "id": "fae0bac6",
   "metadata": {},
   "source": [
    "\n",
    "# Q14. How do outliers affect measures of central tendency and dispersion? Provide an example.\n",
    "\n",
    "1. **Measures of Central Tendency (Mean, Median, Mode):**\n",
    "   - **Mean:** Outliers, especially extreme values, can pull the mean in their direction, making it an inaccurate representation of the typical value.\n",
    "   - **Median:** The median is less affected by outliers because it is not sensitive to extreme values, so it may provide a more robust estimate of central tendency.\n",
    "   - **Mode:** Outliers rarely affect the mode because it represents the most frequently occurring value, which may not be influenced by isolated extreme values.\n",
    "\n",
    "2. **Measures of Dispersion (Range, Variance, Standard Deviation):**\n",
    "   - **Range:** Outliers can significantly increase the range, making it a poor measure of data spread if extreme values are present.\n",
    "   - **Variance and Standard Deviation:** Outliers increase the variability in the data, leading to larger variance and standard deviation values, which can exaggerate the perceived spread of the data.\n",
    "\n",
    "\n",
    "Example:\n",
    "Consider a dataset of salaries for a company:\n",
    "\n",
    "[40,000, 42,000, 45,000, 41,000, 44,000, 250,000]\n",
    "\n",
    "- **Mean:** Without the outlier (250,000), the mean salary is $43,333.33. With the outlier, it becomes $72,833.33, significantly skewed by the extreme value.\n",
    "- **Median:** The median salary is $43,000, and it remains relatively stable with or without the outlier, making it a robust measure.\n",
    "- **Standard Deviation:** Without the outlier, the standard deviation is approximately $2,449.49. With the outlier, it increases to approximately $63,803.81, indicating higher variability primarily due to the outlier.\n",
    "\n",
    "In this example, the outlier (250,000) has a substantial impact on the mean and standard deviation, while the median remains relatively unaffected, highlighting the importance of considering the influence of outliers when interpreting central tendency and dispersion measures."
   ]
  },
  {
   "cell_type": "code",
   "execution_count": null,
   "id": "e1080382",
   "metadata": {},
   "outputs": [],
   "source": []
  }
 ],
 "metadata": {
  "kernelspec": {
   "display_name": "Python 3 (ipykernel)",
   "language": "python",
   "name": "python3"
  },
  "language_info": {
   "codemirror_mode": {
    "name": "ipython",
    "version": 3
   },
   "file_extension": ".py",
   "mimetype": "text/x-python",
   "name": "python",
   "nbconvert_exporter": "python",
   "pygments_lexer": "ipython3",
   "version": "3.11.3"
  }
 },
 "nbformat": 4,
 "nbformat_minor": 5
}
